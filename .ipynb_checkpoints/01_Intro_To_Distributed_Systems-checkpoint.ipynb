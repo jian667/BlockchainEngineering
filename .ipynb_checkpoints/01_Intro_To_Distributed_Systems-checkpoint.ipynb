{
 "cells": [
  {
   "cell_type": "markdown",
   "metadata": {
    "slideshow": {
     "slide_type": "slide"
    }
   },
   "source": [
    "#  Introduction\n",
    "\n",
    "To understand how Blockchain works, we must first discuss how distributed systems work.\n",
    "\n",
    "The goal of this notebook is to explain the building blocks for any distributed system, and specifically a peer-to-peer system. P2P environment is a network where peers are connected, exchange information and run applications on top of it.\n",
    "\n",
    "The goals are as follows:\n",
    "- We will build a system block by block.\n",
    "- Distributed systems are hard as there are many random errors: race conditions, nasty bugs, deadlocks.\n",
    "- We will simplify the world to get to the juiciest parts without leaving out the essentials.  \n",
    "\n",
    "\n",
    "We will simulate the P2P environment locally to get an idea of how such systems would work and understand the design decision that developers make.\n",
    "\n",
    "To show the different tradeoffs and why developers and researchers choose specific designs, we need a way to simulate such an environment. Here we will simulate the network and message exchange via a  discrete event simulator: [SimPy](simpy.readthedocs.io/en/latest/).\n",
    "\n",
    "For the simplicity of use, you can use wrapper for SimPY implement a P2P network simulation: `p2psimpy`. \n",
    "\n",
    "\n",
    "# Simulation of P2P environments\n",
    "\n",
    "We start the notebook by introducing the backbone for such a simulation: `BaseSimulation`.\n",
    "This class represents the network of peers with their physical representations in the world, such as physical `location`, [`bandwidth`](https://en.wikipedia.org/wiki/Bandwidth_(computing)). \n",
    "\n",
    "These properties both define and restrict the capabilities of how fast you can transfer messages and how message travel through the network (which peers see the message, which channels are used).\n",
    "\n",
    "\n",
    "`BaseSimulation` consists of 3 main parameters: \n",
    " - *Locations*\n",
    " - *Network Topology* \n",
    " - *Services and Message Processors* \n",
    "\n",
    "We will explain them one by one. \n",
    "\n"
   ]
  },
  {
   "cell_type": "markdown",
   "metadata": {},
   "source": [
    "\n",
    "### Simulating latencies between locations\n",
    "\n",
    "The simulator simulates connection delays (`latency`) between the nodes in the physical space (`location`).\n",
    "This is a very rough representation of reality but is sufficient for us. You can read more about jitter and latency [here](https://www.tpx.com/blog/latency-jitter-and-packet-loss/) or [here](https://www.youtube.com/watch?v=WdbJdUh6W08).   \n",
    "\n",
    "\n",
    "\n",
    "Locations are defined as a `Config` class. Variables can be constant, or probabilistic (with a probability distribution using scipy).\n",
    "This class can be used as generators of parameters, saved and loaded as a [YAML](https://en.wikipedia.org/wiki/YAML) file."
   ]
  },
  {
   "cell_type": "markdown",
   "metadata": {},
   "source": [
    "  "
   ]
  },
  {
   "cell_type": "markdown",
   "metadata": {},
   "source": [
    "Location configuration should contain at least two fields: `locations` and `latencies`. \n",
    "- `locations` is an array or a tuple with names of locations.\n",
    "- `latencies` is a dictionary (matrix) with latencies of pairwise connections.\n",
    "\n",
    "Depending on the experiments, latencies can be constant, but a more realistic model is a probabilistic distribution.\n",
    "Such a distribution is represented with the `Dist` class. \n",
    "\n",
    "`Dist` class is a wrap-around [scipy.stats](https://docs.scipy.org/doc/scipy/reference/stats.html), which has a rich collection of distributions. Use the [link](https://docs.scipy.org/doc/scipy/reference/stats.html) as reference documentation when choosing a distribution function.   \n",
    "\n",
    "Finally,  `Config.get()` samples all the parameters from distributions and returns them as a dictionary.  \n",
    "\n",
    "Let's try it out:"
   ]
  },
  {
   "cell_type": "code",
   "execution_count": 1,
   "metadata": {
    "ExecuteTime": {
     "end_time": "2020-03-27T09:17:35.256784Z",
     "start_time": "2020-03-27T09:17:34.199645Z"
    },
    "recordTiming": true
   },
   "outputs": [],
   "source": [
    "from p2psimpy.config import *\n",
    "\n",
    "\n",
    "class ConstLocations(Config):\n",
    "    '''A configuration with 2 locations: LocA and LocB with constant latencies.'''\n",
    "    locations = ['LocA', 'LocB']\n",
    "    latencies = {\n",
    "        'LocA': {'LocB': 10, 'LocA': 2},\n",
    "        'LocB': {'LocB': 1}\n",
    "    }    \n",
    "\n",
    "class DistLocations(Config):\n",
    "    '''A configuration with 2 locations: LocA and LocB with variable latencies defined with a statistical function.'''\n",
    "    locations = ['LocA', 'LocB']\n",
    "    latencies = {\n",
    "        'LocB': {'LocB': Dist('gamma', (1, 1, 1))},\n",
    "        'LocA': {'LocB': Dist('norm', (12, 2)), 'LocA': Dist('norm', (2, 0.5))},\n",
    "    }    \n",
    "    "
   ]
  },
  {
   "cell_type": "code",
   "execution_count": 2,
   "metadata": {
    "ExecuteTime": {
     "end_time": "2020-03-27T09:17:35.274429Z",
     "start_time": "2020-03-27T09:17:35.259195Z"
    }
   },
   "outputs": [
    {
     "data": {
      "text/plain": [
       "{'latencies': {'LocA': {'LocB': 10, 'LocA': 2}, 'LocB': {'LocB': 1}},\n",
       " 'locations': ['LocA', 'LocB']}"
      ]
     },
     "execution_count": 2,
     "metadata": {},
     "output_type": "execute_result"
    }
   ],
   "source": [
    "ConstLocations.get()"
   ]
  },
  {
   "cell_type": "code",
   "execution_count": 3,
   "metadata": {},
   "outputs": [
    {
     "data": {
      "text/plain": [
       "'/home/jhan/Downloads/workspace/anaconda2/envs/bc1/bin'"
      ]
     },
     "execution_count": 3,
     "metadata": {},
     "output_type": "execute_result"
    }
   ],
   "source": [
    "import sys, os\n",
    "os.path.dirname(sys.executable)"
   ]
  },
  {
   "cell_type": "code",
   "execution_count": 4,
   "metadata": {
    "ExecuteTime": {
     "end_time": "2020-03-27T09:17:35.287131Z",
     "start_time": "2020-03-27T09:17:35.278297Z"
    }
   },
   "outputs": [
    {
     "data": {
      "text/plain": [
       "{'latencies': {'LocB': {'LocB': 1.318859878080074},\n",
       "  'LocA': {'LocB': 14.39971652615958, 'LocA': 2.5582862766172143}},\n",
       " 'locations': ['LocA', 'LocB']}"
      ]
     },
     "execution_count": 4,
     "metadata": {},
     "output_type": "execute_result"
    }
   ],
   "source": [
    "DistLocations.get()"
   ]
  },
  {
   "cell_type": "markdown",
   "metadata": {},
   "source": [
    "Every time you call `Config.get()` it will return new sample"
   ]
  },
  {
   "cell_type": "code",
   "execution_count": 5,
   "metadata": {
    "ExecuteTime": {
     "end_time": "2020-03-27T09:17:35.304760Z",
     "start_time": "2020-03-27T09:17:35.294903Z"
    }
   },
   "outputs": [
    {
     "data": {
      "text/plain": [
       "{'latencies': {'LocB': {'LocB': 2.107224644809567},\n",
       "  'LocA': {'LocB': 9.670161157459027, 'LocA': 2.2654948625368}},\n",
       " 'locations': ['LocA', 'LocB']}"
      ]
     },
     "execution_count": 5,
     "metadata": {},
     "output_type": "execute_result"
    }
   ],
   "source": [
    "DistLocations.get()"
   ]
  },
  {
   "cell_type": "code",
   "execution_count": 6,
   "metadata": {},
   "outputs": [
    {
     "data": {
      "text/plain": [
       "10.85"
      ]
     },
     "execution_count": 6,
     "metadata": {},
     "output_type": "execute_result"
    }
   ],
   "source": [
    "12.37-1.52"
   ]
  },
  {
   "cell_type": "code",
   "execution_count": 7,
   "metadata": {},
   "outputs": [
    {
     "data": {
      "text/plain": [
       "{'LocB': {'LocB': 2.5747651243579135},\n",
       " 'LocA': {'LocB': 13.200760744351538, 'LocA': 1.7582689348820821}}"
      ]
     },
     "execution_count": 7,
     "metadata": {},
     "output_type": "execute_result"
    }
   ],
   "source": [
    "DistLocations.get()['latencies']"
   ]
  },
  {
   "cell_type": "markdown",
   "metadata": {},
   "source": [
    " "
   ]
  },
  {
   "cell_type": "markdown",
   "metadata": {},
   "source": [
    "To visualize it we can represent latencies sample as pandas dataframe. It provides a readable table:"
   ]
  },
  {
   "cell_type": "code",
   "execution_count": 8,
   "metadata": {
    "ExecuteTime": {
     "end_time": "2020-03-27T09:17:35.896505Z",
     "start_time": "2020-03-27T09:17:35.307036Z"
    }
   },
   "outputs": [
    {
     "data": {
      "text/html": [
       "<div>\n",
       "<style scoped>\n",
       "    .dataframe tbody tr th:only-of-type {\n",
       "        vertical-align: middle;\n",
       "    }\n",
       "\n",
       "    .dataframe tbody tr th {\n",
       "        vertical-align: top;\n",
       "    }\n",
       "\n",
       "    .dataframe thead th {\n",
       "        text-align: right;\n",
       "    }\n",
       "</style>\n",
       "<table border=\"1\" class=\"dataframe\">\n",
       "  <thead>\n",
       "    <tr style=\"text-align: right;\">\n",
       "      <th></th>\n",
       "      <th>LocB</th>\n",
       "      <th>LocA</th>\n",
       "    </tr>\n",
       "  </thead>\n",
       "  <tbody>\n",
       "    <tr>\n",
       "      <th>LocB</th>\n",
       "      <td>2.801325</td>\n",
       "      <td>17.066092</td>\n",
       "    </tr>\n",
       "    <tr>\n",
       "      <th>LocA</th>\n",
       "      <td>NaN</td>\n",
       "      <td>2.472003</td>\n",
       "    </tr>\n",
       "  </tbody>\n",
       "</table>\n",
       "</div>"
      ],
      "text/plain": [
       "          LocB       LocA\n",
       "LocB  2.801325  17.066092\n",
       "LocA       NaN   2.472003"
      ]
     },
     "execution_count": 8,
     "metadata": {},
     "output_type": "execute_result"
    }
   ],
   "source": [
    "import pandas as pd \n",
    "\n",
    "lat_sample = pd.DataFrame(DistLocations.get()['latencies'])\n",
    "lat_sample"
   ]
  },
  {
   "cell_type": "markdown",
   "metadata": {
    "ExecuteTime": {
     "end_time": "2020-03-16T16:34:34.176798Z",
     "start_time": "2020-03-16T16:34:34.165723Z"
    }
   },
   "source": [
    "*Notice that table has **NaN** values. They will not be automatically filled with symmetric value if not specified.*\n",
    "\n",
    "We can transform the table to fill them up symmetrically. "
   ]
  },
  {
   "cell_type": "code",
   "execution_count": 9,
   "metadata": {
    "ExecuteTime": {
     "end_time": "2020-03-27T09:17:35.940332Z",
     "start_time": "2020-03-27T09:17:35.904410Z"
    }
   },
   "outputs": [
    {
     "data": {
      "text/html": [
       "<div>\n",
       "<style scoped>\n",
       "    .dataframe tbody tr th:only-of-type {\n",
       "        vertical-align: middle;\n",
       "    }\n",
       "\n",
       "    .dataframe tbody tr th {\n",
       "        vertical-align: top;\n",
       "    }\n",
       "\n",
       "    .dataframe thead th {\n",
       "        text-align: right;\n",
       "    }\n",
       "</style>\n",
       "<table border=\"1\" class=\"dataframe\">\n",
       "  <thead>\n",
       "    <tr style=\"text-align: right;\">\n",
       "      <th></th>\n",
       "      <th>LocB</th>\n",
       "      <th>LocA</th>\n",
       "    </tr>\n",
       "  </thead>\n",
       "  <tbody>\n",
       "    <tr>\n",
       "      <th>LocB</th>\n",
       "      <td>2.801325</td>\n",
       "      <td>17.066092</td>\n",
       "    </tr>\n",
       "    <tr>\n",
       "      <th>LocA</th>\n",
       "      <td>17.066092</td>\n",
       "      <td>2.472003</td>\n",
       "    </tr>\n",
       "  </tbody>\n",
       "</table>\n",
       "</div>"
      ],
      "text/plain": [
       "           LocB       LocA\n",
       "LocB   2.801325  17.066092\n",
       "LocA  17.066092   2.472003"
      ]
     },
     "execution_count": 9,
     "metadata": {},
     "output_type": "execute_result"
    }
   ],
   "source": [
    "lat_sample[pd.isnull(lat_sample)] = lat_sample.T[pd.isnull(lat_sample)]\n",
    "lat_sample"
   ]
  },
  {
   "cell_type": "markdown",
   "metadata": {},
   "source": [
    "\n",
    "### Visualizing the data\n",
    "\n",
    "\n",
    " 1. Prepare data: \n",
    "  - Trasfer to pandas dataframe\n",
    "  - Fill null values with the symmetic counter-part\n",
    "  - Transform into list of tuples: 'from', 'to', 'value' \n",
    "  \n",
    " 2. Get 100 samples from the configuration with latencies\n",
    " \n",
    " 3. Visualize in a grid of histograms\n",
    "\n"
   ]
  },
  {
   "cell_type": "code",
   "execution_count": 10,
   "metadata": {
    "ExecuteTime": {
     "end_time": "2020-03-27T09:17:41.570964Z",
     "start_time": "2020-03-27T09:17:35.952523Z"
    }
   },
   "outputs": [
    {
     "data": {
      "image/png": "[encoded data removed]",
      "text/plain": [
       "<Figure size 576x576 with 4 Axes>"
      ]
     },
     "metadata": {},
     "output_type": "display_data"
    }
   ],
   "source": [
    "\n",
    "import matplotlib.pyplot as plt\n",
    "import seaborn as sns\n",
    "sns.set(style='darkgrid')\n",
    "\n",
    "# 1. Data prepare\n",
    "def prepare(x):\n",
    "    x = pd.DataFrame(x)\n",
    "    x[pd.isnull(x)] = x.T[pd.isnull(x)]\n",
    "    return x.stack().reset_index()\\\n",
    "                    .rename(columns={'level_0':'from', 'level_1':'to', 0: 'value'})\n",
    "                    \n",
    "# 2. Get 100 samples\n",
    "df = pd.concat(prepare(DistLocations.get()['latencies']) for _ in range(100))\n",
    "\n",
    "# 3. Visualize in a grid of histograms\n",
    "g = sns.FacetGrid(df, col='to', row='from', height=4, aspect=1)\n",
    "g = g.map(sns.distplot, 'value')\n"
   ]
  },
  {
   "cell_type": "raw",
   "metadata": {},
   "source": []
  },
  {
   "cell_type": "markdown",
   "metadata": {},
   "source": [
    "The visulations shows the latency matrix for our two locations. "
   ]
  },
  {
   "cell_type": "markdown",
   "metadata": {},
   "source": [
    "----\n",
    "## Peers and Topologies \n",
    "\n",
    "Usually when designing your own system, the architect should think about the network topology: *How are peers connected to each other?*. \n",
    "\n",
    "\n",
    "Simulation can work in two modes: \n",
    "\n",
    "1. **NetworkX**. You know what topology you want to simulate, pass a network topology to the simulation.\n",
    "\n",
    "2. **Emergent**. Peers connect to each other without a pre-defined topology. A certain topology emerges through local rules, for example, peers connect with each other through the bootstrap peers and exchange data with each other. Typically, unstructured topologies of a peer-to-peer network fall in this category. You can read more [here](https://en.wikipedia.org/wiki/Bootstrapping_node), or  read how [Bitcoin network](https://en.bitcoin.it/wiki/Network) is formed.  \n",
    "\n",
    "\n",
    "### Networkx topology\n",
    "\n",
    "Let's first see how we can form a network topology.\n"
   ]
  },
  {
   "cell_type": "code",
   "execution_count": 11,
   "metadata": {
    "ExecuteTime": {
     "end_time": "2020-03-27T09:17:43.066290Z",
     "start_time": "2020-03-27T09:17:41.577831Z"
    },
    "recordTiming": true
   },
   "outputs": [
    {
     "data": {
      "image/png": "[encoded data removed]",
      "text/plain": [
       "<Figure size 432x288 with 1 Axes>"
      ]
     },
     "metadata": {},
     "output_type": "display_data"
    }
   ],
   "source": [
    "import networkx as nx\n",
    "\n",
    "peer_num = 10\n",
    "\n",
    "# Generate a random network network topology \n",
    "G = nx.erdos_renyi_graph(10, 0.5)\n",
    "\n",
    "# Assign a peer type to the peers with a type. Type if later used to tell which services to run.\n",
    "nx.set_node_attributes(G, {k: 'basic' for k in G.nodes()}, 'type')\n",
    "\n",
    "sns.set(style='dark')\n",
    "nx.draw_networkx(G)\n"
   ]
  },
  {
   "cell_type": "markdown",
   "metadata": {},
   "source": [
    "NetworkX is a library with rich semantics to work with graphs. You can read more [here](https://networkx.github.io/documentation/stable/reference/generators.html).  \n",
    "\n",
    "You can choose any graph, generate them and put `type` as node attributes. `type` is a name for the peer type. We will explain later on how it will be used in a simulation.  \n",
    "\n",
    "\n",
    "\n",
    "### Emergent topology\n",
    "\n",
    "What if topology is not known?\n",
    "\n",
    "In this case we can model the peer discovery mechanism through *bootstrapping* peers. The general bootstrap process is the following: \n",
    "1. Bootstrap nodes are first created and introduced to the network. The goal of bootstrap nodes is to maintain list of peers and connect them with each other upon request. Bootstrap nodes are usually known in advance, for example, hardcoded in the supplied code. \n",
    "2. The bootstrap procedure is as follows: a) new peer joins the network, b) peer sends a `Hello` message to one of bootstrap nodes, c) a bootstrap node responds to the peer with a random sample of known online peers. \n",
    "3. The peer connect with other peers from the given sample list.\n",
    "\n",
    "\n",
    "To run default bootstrap you should pass as a parameter `topology`, a dictionary with type `peer_id` -> {`type`: type_name}\n",
    "This is all abstracted in simulation, but you can specify your own bootstrap logic later. \n",
    "\n",
    "\n",
    "<!-- ### Explain more\n",
    "\n",
    "Discovery  -->"
   ]
  },
  {
   "cell_type": "markdown",
   "metadata": {},
   "source": [
    "-------\n",
    "## Peer types and services\n",
    "\n",
    "Finally, our simulation needs messages and service to process these messages. In `p2psimpy` we model it through Manager Classes and `PeerType`.\n",
    "\n",
    "Below we show an example of a simple map with one type of the peer: `basic`: \n",
    "\n",
    "- Peer is described with a `PeerType(PeerConfig, services)`. \n",
    "    - `PeerConfig` describes a physical capacities of the node: bandwidth for the messages that go through (upload and download) and location (one the specified before)\n",
    "    - `services` is a list of service that peer should run. There some standard services that you can use in your simulation. But you will also implement your own later!\n",
    "- Minimally peer should have at least a connection service to connect to the network and respond to the introduction messages. These are the standard connection services available for you: \n",
    "  - `BaseConnectionManager`: a simple connection service that can connect, ping other peers and disconnect unresponsive peers. This is the recommended service for a **Networkx** topology approach.  \n",
    "  - `P2PConnectionManager`: an extended BaseConnectionManger that additionally keeps the number of connections between specified `min_peers` and `max_peers`. If the number of local connections is lower than `min_peers`, service will actievly pool and ask other peers for new connection. If the number of local connections is higher than `max_peers`, service will refuse all new connection and disconnect the slowest peers. This is a recommended service for an **Emergent** topology approach. \n",
    "\n",
    "Let's see how it looks in code:\n"
   ]
  },
  {
   "cell_type": "code",
   "execution_count": 12,
   "metadata": {
    "ExecuteTime": {
     "end_time": "2020-03-27T09:17:43.208204Z",
     "start_time": "2020-03-27T09:17:43.085495Z"
    }
   },
   "outputs": [],
   "source": [
    "from p2psimpy.config import *\n",
    "from p2psimpy.consts import *\n",
    "    \n",
    "class PeerConfig(Config):\n",
    "    # Location of the peer - random location from the locations specified earlier \n",
    "    location = Dist('sample', DistLocations.locations)\n",
    "    # Bandwidth is normally distributed with average of 50 and var 10 Mbit\n",
    "    bandwidth_ul = Dist( 'norm', (50*MBit, 10*MBit))\n",
    "    bandwidth_dl = Dist( 'norm', (50*MBit, 10*MBit))\n",
    "\n",
    "# Let's add ConnectionManager - that will periodically ping neighbours and check if they are online.\n",
    "# We use BaseConnectionManager - that will periodically ping peer and disconnect unresponsive peers.\n",
    "from p2psimpy.services.connection_manager import BaseConnectionManager\n",
    "\n",
    "services = (BaseConnectionManager,)\n",
    "# We have on peer role: basic\n",
    "peer_types = {'basic': PeerType(PeerConfig, services)}"
   ]
  },
  {
   "cell_type": "markdown",
   "metadata": {},
   "source": [
    "How to use these configurations? Configs are used to get value. \n",
    "They work as generators and attribute descriptors.  "
   ]
  },
  {
   "cell_type": "markdown",
   "metadata": {},
   "source": [
    "----"
   ]
  },
  {
   "cell_type": "markdown",
   "metadata": {},
   "source": [
    "# Putting it all together\n",
    "\n",
    "\n",
    "Let's combine all you learned so far to run a simple simulation:\n",
    "\n",
    "1. Define locations and simulation world parameters.\n",
    "2. Define topology and number of peers with their types.  \n",
    "3. Define what each peer type is with a `PeerConfig` and what it does with services. \n",
    "\n",
    "\n",
    "After we defined all this we can create a simulation object and run it with `.run(time)`.\n",
    "\n",
    "Simulation has it's internal clock and scheduler for all events. The parameter `time` is a time until which the simulation is run. \n",
    "\n",
    "\n",
    "***The time is defined in milliseconds**!\n",
    "\n",
    "\n",
    "\n"
   ]
  },
  {
   "cell_type": "markdown",
   "metadata": {
    "ExecuteTime": {
     "end_time": "2020-03-11T09:50:33.374122Z",
     "start_time": "2020-03-11T09:50:33.347834Z"
    }
   },
   "source": [
    "## Random given topology \n",
    "\n",
    "Let us first try out with a random given topology generated as a networkx graph"
   ]
  },
  {
   "cell_type": "code",
   "execution_count": 13,
   "metadata": {
    "ExecuteTime": {
     "end_time": "2020-03-27T09:17:43.889018Z",
     "start_time": "2020-03-27T09:17:43.214432Z"
    }
   },
   "outputs": [
    {
     "data": {
      "image/png": "[encoded data removed]",
      "text/plain": [
       "<Figure size 432x288 with 1 Axes>"
      ]
     },
     "metadata": {},
     "output_type": "display_data"
    }
   ],
   "source": [
    "from p2psimpy.config import *\n",
    "from p2psimpy.consts import *\n",
    "import networkx as nx\n",
    "\n",
    "class Locations(Config):\n",
    "    locations = ['LocA', 'LocB']\n",
    "    latencies = {\n",
    "        'LocB': {'LocB': Dist('gamma', (1, 1, 1))},\n",
    "        'LocA': {'LocB': Dist('norm', (12, 2)), 'LocA': Dist('norm', (2, 0.5))},\n",
    "    } \n",
    "\n",
    "# Number of nodes\n",
    "N = 10\n",
    "    \n",
    "# Generate network topology \n",
    "G = nx.erdos_renyi_graph(N, 0.5)\n",
    "# Assign a peer type to the peers \n",
    "nx.set_node_attributes(G, {k: 'basic' for k in G.nodes()}, 'type')\n",
    "\n",
    "class PeerConfig(Config):\n",
    "    location = Dist('sample', Locations.locations)\n",
    "    bandwidth_ul = Dist( 'norm', (50*MBit, 10*MBit))\n",
    "    bandwidth_dl = Dist( 'norm', (50*MBit, 10*MBit))\n",
    "\n",
    "# Let's add ConnectionManager - that will periodically ping neighbours and check if they are online \n",
    "from p2psimpy.services.connection_manager import BaseConnectionManager\n",
    "# For each service you can define own configuration, or use default values.   \n",
    "# Lets use base connection manager - that will periodically ping peer and disconnect unresponsive peers.\n",
    "\n",
    "services = (BaseConnectionManager,)\n",
    "peer_types = {'basic': PeerType(PeerConfig, services)}\n",
    "\n",
    "# Display the topology \n",
    "nx.draw_networkx(G)"
   ]
  },
  {
   "cell_type": "code",
   "execution_count": 14,
   "metadata": {
    "ExecuteTime": {
     "end_time": "2020-03-27T09:17:44.329539Z",
     "start_time": "2020-03-27T09:17:43.895337Z"
    }
   },
   "outputs": [
    {
     "name": "stdout",
     "output_type": "stream",
     "text": [
      "+\n"
     ]
    }
   ],
   "source": [
    "from p2psimpy.simulation import BaseSimulation\n",
    "\n",
    "# Create BaseSimulation with enabled logger and save in the logs directory. \n",
    "sim = BaseSimulation(Locations, G, peer_types, enable_logger=True, logger_dir='logs')\n",
    "\n",
    "# Let's run the simulation for 5 seconds\n",
    "sim.run(5_000)"
   ]
  },
  {
   "cell_type": "markdown",
   "metadata": {
    "ExecuteTime": {
     "end_time": "2020-03-17T12:40:15.632268Z",
     "start_time": "2020-03-17T12:40:15.613568Z"
    }
   },
   "source": [
    "----------------------------\n",
    "\n",
    "What's next? There is no output.\n",
    "\n",
    "We run the simulator with logger enabled to see the all the messages exchanged in the network. \n",
    "\n",
    "The output is written to the logs in `\\logs` directory. Let's see what is the output. \n",
    "Each peer writes its own log with events happening like received message, connecting to a peer etc. \n",
    "\n",
    "For example, here is the log of peer 1:"
   ]
  },
  {
   "cell_type": "code",
   "execution_count": 15,
   "metadata": {
    "ExecuteTime": {
     "end_time": "2020-03-27T09:17:44.413024Z",
     "start_time": "2020-03-27T09:17:44.345639Z"
    }
   },
   "outputs": [
    {
     "name": "stdout",
     "output_type": "stream",
     "text": [
      "Peer_1:basic INFO 0.5091941492852352: Received message <Hello:> from Peer_5:basic\n",
      "Peer_1:basic INFO 0.5091941492852352: Connecting to Peer_5:basic\n",
      "Peer_1:basic INFO 0.5091941492852352: Sending message <Hello:> to Peer_5:basic\n",
      "Peer_1:basic INFO 0.5396901171270209: Received message <Hello:> from Peer_2:basic\n",
      "Peer_1:basic INFO 0.5396901171270209: Connecting to Peer_2:basic\n",
      "Peer_1:basic INFO 0.5396901171270209: Sending message <Hello:> to Peer_2:basic\n",
      "Peer_1:basic INFO 0.777449322568277: Received message <Hello:> from Peer_7:basic\n",
      "Peer_1:basic INFO 0.777449322568277: Connecting to Peer_7:basic\n",
      "Peer_1:basic INFO 0.777449322568277: Sending message <Hello:> to Peer_7:basic\n",
      "Peer_1:basic INFO 5.83542330385497: Received message <Hello:> from Peer_9:basic\n",
      "Peer_1:basic INFO 5.83542330385497: Connecting to Peer_9:basic\n",
      "Peer_1:basic INFO 5.83542330385497: Sending message <Hello:> to Peer_9:basic\n",
      "Peer_1:basic INFO 6.106121660811652: Received message <Hello:> from Peer_8:basic\n",
      "Peer_1:basic INFO 6.106121660811652: Connecting to Peer_8:basic\n",
      "Peer_1:basic INFO 6.106121660811652: Sending message <Hello:> to Peer_8:basic\n",
      "Peer_1:basic INFO 6.2283877276344795: Received message <Hello:> from Peer_6:basic\n",
      "Peer_1:basic INFO 6.2283877276344795: Connecting to Peer_6:basic\n",
      "Peer_1:basic INFO 6.2283877276344795: Sending message <Hello:> to Peer_6:basic\n",
      "Peer_1:basic INFO 1000: Sending message <Ping:> to Peer_5:basic\n",
      "Peer_1:basic INFO 1000: Sending message <Ping:> to Peer_2:basic\n",
      "Peer_1:basic INFO 1000: Sending message <Ping:> to Peer_7:basic\n",
      "Peer_1:basic INFO 1000: Sending message <Ping:> to Peer_9:basic\n",
      "Peer_1:basic INFO 1000: Sending message <Ping:> to Peer_8:basic\n",
      "Peer_1:basic INFO 1000: Sending message <Ping:> to Peer_6:basic\n",
      "Peer_1:basic INFO 1000.5356178884653: Received message <Ping:> from Peer_5:basic\n",
      "Peer_1:basic INFO 1000.5356178884653: Sending message <Pong:> to Peer_5:basic\n",
      "Peer_1:basic INFO 1000.5858130987775: Received message <Ping:> from Peer_2:basic\n",
      "Peer_1:basic INFO 1000.5858130987775: Sending message <Pong:> to Peer_2:basic\n",
      "Peer_1:basic INFO 1001.0355511674884: Received message <Pong:> from Peer_2:basic\n",
      "Peer_1:basic INFO 1001.1381998410903: Received message <Ping:> from Peer_7:basic\n",
      "Peer_1:basic INFO 1001.1381998410903: Sending message <Pong:> to Peer_7:basic\n",
      "Peer_1:basic INFO 1001.6510969483854: Received message <Pong:> from Peer_5:basic\n",
      "Peer_1:basic INFO 1001.7772713801637: Received message <Pong:> from Peer_7:basic\n",
      "Peer_1:basic INFO 1004.2444436220046: Received message <Ping:> from Peer_8:basic\n",
      "Peer_1:basic INFO 1004.2444436220046: Sending message <Pong:> to Peer_8:basic\n",
      "Peer_1:basic INFO 1006.8329374268935: Received message <Ping:> from Peer_6:basic\n",
      "Peer_1:basic INFO 1006.8329374268935: Sending message <Pong:> to Peer_6:basic\n",
      "Peer_1:basic INFO 1008.395526733574: Received message <Ping:> from Peer_9:basic\n",
      "Peer_1:basic INFO 1008.395526733574: Sending message <Pong:> to Peer_9:basic\n",
      "Peer_1:basic INFO 1011.8492918638203: Received message <Pong:> from Peer_6:basic\n",
      "Peer_1:basic INFO 1012.374904696499: Received message <Pong:> from Peer_8:basic\n",
      "Peer_1:basic INFO 1013.6321569563918: Received message <Pong:> from Peer_9:basic\n",
      "Peer_1:basic INFO 2000: Sending message <Ping:> to Peer_5:basic\n",
      "Peer_1:basic INFO 2000: Sending message <Ping:> to Peer_2:basic\n",
      "Peer_1:basic INFO 2000: Sending message <Ping:> to Peer_7:basic\n",
      "Peer_1:basic INFO 2000: Sending message <Ping:> to Peer_9:basic\n",
      "Peer_1:basic INFO 2000: Sending message <Ping:> to Peer_8:basic\n",
      "Peer_1:basic INFO 2000: Sending message <Ping:> to Peer_6:basic\n",
      "Peer_1:basic INFO 2000.5090648614282: Received message <Ping:> from Peer_7:basic\n",
      "Peer_1:basic INFO 2000.5090648614282: Sending message <Pong:> to Peer_7:basic\n",
      "Peer_1:basic INFO 2000.889225488521: Received message <Ping:> from Peer_2:basic\n",
      "Peer_1:basic INFO 2000.889225488521: Sending message <Pong:> to Peer_2:basic\n",
      "Peer_1:basic INFO 2001.0437917393558: Received message <Ping:> from Peer_5:basic\n",
      "Peer_1:basic INFO 2001.0437917393558: Sending message <Pong:> to Peer_5:basic\n",
      "Peer_1:basic INFO 2001.058778899168: Received message <Pong:> from Peer_2:basic\n",
      "Peer_1:basic INFO 2002.1285152271325: Received message <Pong:> from Peer_7:basic\n",
      "Peer_1:basic INFO 2002.7185511926907: Received message <Pong:> from Peer_5:basic\n",
      "Peer_1:basic INFO 2005.952233145487: Received message <Ping:> from Peer_8:basic\n",
      "Peer_1:basic INFO 2005.952233145487: Sending message <Pong:> to Peer_8:basic\n",
      "Peer_1:basic INFO 2006.4494650066122: Received message <Ping:> from Peer_9:basic\n",
      "Peer_1:basic INFO 2006.4494650066122: Sending message <Pong:> to Peer_9:basic\n",
      "Peer_1:basic INFO 2007.205569417932: Received message <Ping:> from Peer_6:basic\n",
      "Peer_1:basic INFO 2007.205569417932: Sending message <Pong:> to Peer_6:basic\n",
      "Peer_1:basic INFO 2010.2230582431716: Received message <Pong:> from Peer_9:basic\n",
      "Peer_1:basic INFO 2011.4551383373393: Received message <Pong:> from Peer_6:basic\n",
      "Peer_1:basic INFO 2013.007926648969: Received message <Pong:> from Peer_8:basic\n",
      "Peer_1:basic INFO 3000: Sending message <Ping:> to Peer_5:basic\n",
      "Peer_1:basic INFO 3000: Sending message <Ping:> to Peer_2:basic\n",
      "Peer_1:basic INFO 3000: Sending message <Ping:> to Peer_7:basic\n",
      "Peer_1:basic INFO 3000: Sending message <Ping:> to Peer_9:basic\n",
      "Peer_1:basic INFO 3000: Sending message <Ping:> to Peer_8:basic\n",
      "Peer_1:basic INFO 3000: Sending message <Ping:> to Peer_6:basic\n",
      "Peer_1:basic INFO 3001.0615433054613: Received message <Ping:> from Peer_5:basic\n",
      "Peer_1:basic INFO 3001.0615433054613: Sending message <Pong:> to Peer_5:basic\n",
      "Peer_1:basic INFO 3001.334191384092: Received message <Ping:> from Peer_7:basic\n",
      "Peer_1:basic INFO 3001.334191384092: Sending message <Pong:> to Peer_7:basic\n",
      "Peer_1:basic INFO 3001.47075814586: Received message <Pong:> from Peer_2:basic\n",
      "Peer_1:basic INFO 3001.493422623369: Received message <Pong:> from Peer_5:basic\n",
      "Peer_1:basic INFO 3001.695085159254: Received message <Ping:> from Peer_2:basic\n",
      "Peer_1:basic INFO 3001.695085159254: Sending message <Pong:> to Peer_2:basic\n",
      "Peer_1:basic INFO 3004.1617440088944: Received message <Pong:> from Peer_7:basic\n",
      "Peer_1:basic INFO 3005.5416076008532: Received message <Ping:> from Peer_9:basic\n",
      "Peer_1:basic INFO 3005.5416076008532: Sending message <Pong:> to Peer_9:basic\n",
      "Peer_1:basic INFO 3005.777693765027: Received message <Ping:> from Peer_6:basic\n",
      "Peer_1:basic INFO 3005.777693765027: Sending message <Pong:> to Peer_6:basic\n",
      "Peer_1:basic INFO 3007.017375460643: Received message <Ping:> from Peer_8:basic\n",
      "Peer_1:basic INFO 3007.017375460643: Sending message <Pong:> to Peer_8:basic\n",
      "Peer_1:basic INFO 3012.216850643105: Received message <Pong:> from Peer_9:basic\n",
      "Peer_1:basic INFO 3012.4562541455252: Received message <Pong:> from Peer_6:basic\n",
      "Peer_1:basic INFO 3014.6456406185857: Received message <Pong:> from Peer_8:basic\n",
      "Peer_1:basic INFO 4000: Sending message <Ping:> to Peer_5:basic\n",
      "Peer_1:basic INFO 4000: Sending message <Ping:> to Peer_2:basic\n",
      "Peer_1:basic INFO 4000: Sending message <Ping:> to Peer_7:basic\n",
      "Peer_1:basic INFO 4000: Sending message <Ping:> to Peer_9:basic\n",
      "Peer_1:basic INFO 4000: Sending message <Ping:> to Peer_8:basic\n",
      "Peer_1:basic INFO 4000: Sending message <Ping:> to Peer_6:basic\n",
      "Peer_1:basic INFO 4000.7699108381626: Received message <Ping:> from Peer_5:basic\n",
      "Peer_1:basic INFO 4000.7699108381626: Sending message <Pong:> to Peer_5:basic\n",
      "Peer_1:basic INFO 4000.8220323979754: Received message <Ping:> from Peer_7:basic\n",
      "Peer_1:basic INFO 4000.8220323979754: Sending message <Pong:> to Peer_7:basic\n",
      "Peer_1:basic INFO 4000.9681259725808: Received message <Ping:> from Peer_2:basic\n",
      "Peer_1:basic INFO 4000.9681259725808: Sending message <Pong:> to Peer_2:basic\n",
      "Peer_1:basic INFO 4001.236254744962: Received message <Pong:> from Peer_5:basic\n",
      "Peer_1:basic INFO 4001.3746214593393: Received message <Pong:> from Peer_7:basic\n",
      "Peer_1:basic INFO 4003.395881500228: Received message <Pong:> from Peer_2:basic\n",
      "Peer_1:basic INFO 4004.589378236529: Received message <Ping:> from Peer_8:basic\n",
      "Peer_1:basic INFO 4004.589378236529: Sending message <Pong:> to Peer_8:basic\n",
      "Peer_1:basic INFO 4005.742249345669: Received message <Ping:> from Peer_6:basic\n",
      "Peer_1:basic INFO 4005.742249345669: Sending message <Pong:> to Peer_6:basic\n",
      "Peer_1:basic INFO 4008.5411955206628: Received message <Ping:> from Peer_9:basic\n",
      "Peer_1:basic INFO 4008.5411955206628: Sending message <Pong:> to Peer_9:basic\n",
      "Peer_1:basic INFO 4011.6358724209636: Received message <Pong:> from Peer_8:basic\n",
      "Peer_1:basic INFO 4012.2723725467376: Received message <Pong:> from Peer_6:basic\n",
      "Peer_1:basic INFO 4013.328392249679: Received message <Pong:> from Peer_9:basic\n",
      "\n"
     ]
    }
   ],
   "source": [
    "with open('logs/Peer_1:basic.log') as s:\n",
    "    print(s.read())"
   ]
  },
  {
   "cell_type": "markdown",
   "metadata": {},
   "source": [
    "## Emergent topology\n",
    "\n",
    "Now let's try an emergent topology, we will use the same configuration, but use bootstrap peer for discovery and building a network. For the connection manager we will use `P2PConnectionManager`.  \n"
   ]
  },
  {
   "cell_type": "code",
   "execution_count": 16,
   "metadata": {
    "ExecuteTime": {
     "end_time": "2020-03-27T09:17:44.430653Z",
     "start_time": "2020-03-27T09:17:44.415134Z"
    }
   },
   "outputs": [],
   "source": [
    "from p2psimpy.services.connection_manager import P2PConnectionManager\n",
    "\n",
    "num_peers = 10\n",
    "\n",
    "topology_specs = {i:{'type': 'basic'} for i in range(1, num_peers+1)}\n",
    "\n",
    "class ConnectionConfig(Config):\n",
    "    min_peers = 4\n",
    "    max_peers = 8\n",
    "\n",
    "peer_types = {'basic': PeerType(PeerConfig, {P2PConnectionManager: ConnectionConfig})}\n"
   ]
  },
  {
   "cell_type": "code",
   "execution_count": 17,
   "metadata": {
    "ExecuteTime": {
     "end_time": "2020-03-27T09:17:44.729428Z",
     "start_time": "2020-03-27T09:17:44.442513Z"
    }
   },
   "outputs": [
    {
     "name": "stdout",
     "output_type": "stream",
     "text": [
      "+\n"
     ]
    }
   ],
   "source": [
    "sim = BaseSimulation(Locations, topology_specs, peer_types, logger_dir='logs2')\n",
    "\n",
    "# Let's run the simulation for 5 seconds\n",
    "sim.run(5_000)"
   ]
  },
  {
   "cell_type": "markdown",
   "metadata": {},
   "source": [
    "#### The peers form themselves a random topology"
   ]
  },
  {
   "cell_type": "code",
   "execution_count": 18,
   "metadata": {
    "ExecuteTime": {
     "end_time": "2020-03-27T09:17:46.596898Z",
     "start_time": "2020-03-27T09:17:44.765123Z"
    }
   },
   "outputs": [
    {
     "data": {
      "image/png": "[encoded data removed]",
      "text/plain": [
       "<Figure size 432x288 with 1 Axes>"
      ]
     },
     "metadata": {},
     "output_type": "display_data"
    }
   ],
   "source": [
    "G1 = sim.get_graph()\n",
    "nx.draw_networkx(G1)"
   ]
  },
  {
   "cell_type": "code",
   "execution_count": 19,
   "metadata": {
    "ExecuteTime": {
     "end_time": "2020-03-27T09:17:46.609528Z",
     "start_time": "2020-03-27T09:17:46.600756Z"
    }
   },
   "outputs": [
    {
     "name": "stdout",
     "output_type": "stream",
     "text": [
      "Peer_1:basic WARNING 0: Not enough peers, fetching more (0, 4)\n",
      "Peer_1:basic INFO 0.8122879923071736: Connecting to Peer_11:bootstrap\n",
      "Peer_1:basic INFO 1.6235069420477795: Received message <RequestPeers:> from Peer_11:bootstrap\n",
      "Peer_1:basic INFO 1.6235069420477795: Sending message <PeerList> to Peer_11:bootstrap\n",
      "Peer_1:basic INFO 1.663813607723942: Received message <Hello:> from Peer_11:bootstrap\n",
      "Peer_1:basic WARNING 500: Not enough peers, fetching more (1, 4)\n",
      "Peer_1:basic INFO 500: Sending message <RequestPeers:> to Peer_11:bootstrap\n",
      "Peer_1:basic INFO 501.742235883752: Received message <PeerList> from Peer_11:bootstrap\n",
      "Peer_1:basic WARNING 1000: Not enough peers, fetching more (1, 4)\n",
      "Peer_1:basic INFO 1000: Sending message <RequestPeers:> to Peer_11:bootstrap\n",
      "Peer_1:basic INFO 1001.2384471683279: Received message <Hello:> from Peer_9:basic\n",
      "Peer_1:basic INFO 1001.2384471683279: Connecting to Peer_9:basic\n",
      "Peer_1:basic INFO 1001.2384471683279: Sending message <Hello:> to Peer_9:basic\n",
      "Peer_1:basic INFO 1001.2384471683279: Sending message <RequestPeers:> to Peer_9:basic\n",
      "Peer_1:basic INFO 1001.7877017856764: Received message <PeerList> from Peer_11:bootstrap\n",
      "Peer_1:basic INFO 1004.2244868528654: Received message <PeerList> from Peer_9:basic\n",
      "Peer_1:basic INFO 1006.5163396930681: Connecting to Peer_5:basic\n",
      "Peer_1:basic INFO 1011.0742556751173: Received message <RequestPeers:> from Peer_5:basic\n",
      "Peer_1:basic INFO 1011.0742556751173: Sending message <PeerList> to Peer_5:basic\n",
      "Peer_1:basic INFO 1013.3245755529815: Received message <Hello:> from Peer_5:basic\n",
      "Peer_1:basic WARNING 1500: Not enough peers, fetching more (3, 4)\n",
      "Peer_1:basic INFO 1500.5406935303647: Received message <RequestPeers:> from Peer_9:basic\n",
      "Peer_1:basic INFO 1500.5406935303647: Sending message <PeerList> to Peer_9:basic\n",
      "Peer_1:basic INFO 1501.3138608685435: Connecting to Peer_4:basic\n",
      "Peer_1:basic INFO 1501.594412024375: Received message <RequestPeers:> from Peer_11:bootstrap\n",
      "Peer_1:basic INFO 1501.594412024375: Sending message <PeerList> to Peer_11:bootstrap\n",
      "Peer_1:basic INFO 1501.9249987961089: Received message <RequestPeers:> from Peer_4:basic\n",
      "Peer_1:basic INFO 1501.9249987961089: Sending message <PeerList> to Peer_4:basic\n",
      "Peer_1:basic INFO 1502.9327713394277: Received message <Hello:> from Peer_4:basic\n",
      "Peer_1:basic INFO 1506.8081862095498: Received message <Hello:> from Peer_7:basic\n",
      "Peer_1:basic INFO 1506.8081862095498: Connecting to Peer_7:basic\n",
      "Peer_1:basic INFO 1506.8081862095498: Sending message <Hello:> to Peer_7:basic\n",
      "Peer_1:basic INFO 1506.8081862095498: Sending message <RequestPeers:> to Peer_7:basic\n",
      "Peer_1:basic INFO 1518.0833865180887: Received message <PeerList> from Peer_7:basic\n",
      "Peer_1:basic INFO 2000: Sending message <Ping:> to Peer_5:basic\n",
      "Peer_1:basic INFO 2005.439791041168: Received message <RequestPeers:> from Peer_7:basic\n",
      "Peer_1:basic INFO 2005.439791041168: Sending message <PeerList> to Peer_7:basic\n",
      "Peer_1:basic INFO 2006.85977788486: Received message <Ping:> from Peer_5:basic\n",
      "Peer_1:basic INFO 2006.85977788486: Sending message <Pong:> to Peer_5:basic\n",
      "Peer_1:basic INFO 2010.398562417615: Received message <Pong:> from Peer_5:basic\n",
      "Peer_1:basic INFO 2500: Sending message <Ping:> to Peer_11:bootstrap\n",
      "Peer_1:basic INFO 2500: Sending message <Ping:> to Peer_9:basic\n",
      "Peer_1:basic INFO 2500: Sending message <Ping:> to Peer_4:basic\n",
      "Peer_1:basic INFO 2500.7571210610513: Received message <Ping:> from Peer_4:basic\n",
      "Peer_1:basic INFO 2500.7571210610513: Sending message <Pong:> to Peer_4:basic\n",
      "Peer_1:basic INFO 2500.7703528041657: Received message <Ping:> from Peer_11:bootstrap\n",
      "Peer_1:basic INFO 2500.7703528041657: Sending message <Pong:> to Peer_11:bootstrap\n",
      "Peer_1:basic INFO 2500.903533062727: Received message <Ping:> from Peer_9:basic\n",
      "Peer_1:basic INFO 2500.903533062727: Sending message <Pong:> to Peer_9:basic\n",
      "Peer_1:basic INFO 2501.3824241999146: Received message <Pong:> from Peer_4:basic\n",
      "Peer_1:basic INFO 2501.4939668709626: Received message <Pong:> from Peer_11:bootstrap\n",
      "Peer_1:basic INFO 2502.011319003523: Received message <Pong:> from Peer_9:basic\n",
      "Peer_1:basic INFO 3000: Sending message <Ping:> to Peer_5:basic\n",
      "Peer_1:basic INFO 3000: Sending message <Ping:> to Peer_7:basic\n",
      "Peer_1:basic INFO 3001.6944293607794: Received message <RequestPeers:> from Peer_11:bootstrap\n",
      "Peer_1:basic INFO 3001.6944293607794: Sending message <PeerList> to Peer_11:bootstrap\n",
      "Peer_1:basic INFO 3005.9175448714545: Received message <Ping:> from Peer_5:basic\n",
      "Peer_1:basic INFO 3005.9175448714545: Sending message <Pong:> to Peer_5:basic\n",
      "Peer_1:basic INFO 3006.3212825624037: Received message <Ping:> from Peer_7:basic\n",
      "Peer_1:basic INFO 3006.3212825624037: Sending message <Pong:> to Peer_7:basic\n",
      "Peer_1:basic INFO 3011.1108230492123: Received message <Pong:> from Peer_5:basic\n",
      "Peer_1:basic INFO 3011.692662364555: Received message <Pong:> from Peer_7:basic\n",
      "Peer_1:basic INFO 3500: Sending message <Ping:> to Peer_9:basic\n",
      "Peer_1:basic INFO 3500: Sending message <Ping:> to Peer_4:basic\n",
      "Peer_1:basic INFO 3500.537534049734: Received message <Ping:> from Peer_9:basic\n",
      "Peer_1:basic INFO 3500.537534049734: Sending message <Pong:> to Peer_9:basic\n",
      "Peer_1:basic INFO 3500.764883152694: Received message <RequestPeers:> from Peer_11:bootstrap\n",
      "Peer_1:basic INFO 3500.764883152694: Sending message <PeerList> to Peer_11:bootstrap\n",
      "Peer_1:basic INFO 3501.1649985155436: Received message <Ping:> from Peer_4:basic\n",
      "Peer_1:basic INFO 3501.1649985155436: Sending message <Pong:> to Peer_4:basic\n",
      "Peer_1:basic INFO 3501.9499933700117: Received message <Pong:> from Peer_9:basic\n",
      "Peer_1:basic INFO 3501.989414056622: Received message <Pong:> from Peer_4:basic\n",
      "Peer_1:basic INFO 4000: Sending message <Ping:> to Peer_5:basic\n",
      "Peer_1:basic INFO 4000: Sending message <Ping:> to Peer_7:basic\n",
      "Peer_1:basic INFO 4002.2221118166044: Received message <RequestPeers:> from Peer_11:bootstrap\n",
      "Peer_1:basic INFO 4002.2221118166044: Sending message <PeerList> to Peer_11:bootstrap\n",
      "Peer_1:basic INFO 4005.146789566309: Received message <Ping:> from Peer_5:basic\n",
      "Peer_1:basic INFO 4005.146789566309: Sending message <Pong:> to Peer_5:basic\n",
      "Peer_1:basic INFO 4005.8369939693753: Received message <Ping:> from Peer_7:basic\n",
      "Peer_1:basic INFO 4005.8369939693753: Sending message <Pong:> to Peer_7:basic\n",
      "Peer_1:basic INFO 4011.182005830363: Received message <Pong:> from Peer_7:basic\n",
      "Peer_1:basic INFO 4012.1441465417843: Received message <Pong:> from Peer_5:basic\n",
      "Peer_1:basic INFO 4500: Sending message <Ping:> to Peer_9:basic\n",
      "Peer_1:basic INFO 4500: Sending message <Ping:> to Peer_4:basic\n",
      "Peer_1:basic INFO 4500.709127035562: Received message <Ping:> from Peer_4:basic\n",
      "Peer_1:basic INFO 4500.709127035562: Sending message <Pong:> to Peer_4:basic\n",
      "Peer_1:basic INFO 4501.664299689039: Received message <Pong:> from Peer_4:basic\n",
      "Peer_1:basic INFO 4502.460607730085: Received message <Pong:> from Peer_9:basic\n",
      "Peer_1:basic INFO 4503.171862271745: Received message <Ping:> from Peer_9:basic\n",
      "Peer_1:basic INFO 4503.171862271745: Sending message <Pong:> to Peer_9:basic\n",
      "Peer_1:basic INFO 4504.26218556303: Received message <RequestPeers:> from Peer_11:bootstrap\n",
      "Peer_1:basic INFO 4504.26218556303: Sending message <PeerList> to Peer_11:bootstrap\n",
      "\n"
     ]
    }
   ],
   "source": [
    "with open('logs2/Peer_1:basic.log') as s:\n",
    "    print(s.read())"
   ]
  },
  {
   "cell_type": "markdown",
   "metadata": {},
   "source": [
    "------------------\n",
    "\n",
    "Now you get how to work a simulation, in the next notebook we will take a look into services and implement our own.  \n"
   ]
  },
  {
   "cell_type": "markdown",
   "metadata": {},
   "source": [
    "## Your experiments here \n",
    "\n",
    "\n",
    "1. Change the latency between the locations and look at the logs.  \n",
    "2. Change the rules for the discovery\n",
    "\n"
   ]
  },
  {
   "cell_type": "code",
   "execution_count": 20,
   "metadata": {},
   "outputs": [
    {
     "name": "stdout",
     "output_type": "stream",
     "text": [
      "+\n",
      "Peer_1:basic INFO 1.4593441386195558: Connecting to Peer_3:basic\n",
      "Peer_1:basic INFO 1.6742186188037995: Connecting to Peer_5:basic\n",
      "Peer_1:basic INFO 1.7903030457508289: Received message <Hello:> from Peer_5:basic\n",
      "Peer_1:basic INFO 1.8968815442780906: Connecting to Peer_7:basic\n",
      "Peer_1:basic INFO 2.36882086960372: Received message <Hello:> from Peer_3:basic\n",
      "Peer_1:basic INFO 2.816872294257307: Received message <Hello:> from Peer_7:basic\n",
      "Peer_1:basic INFO 2.906868311592044: Received message <Hello:> from Peer_7:basic\n",
      "Peer_1:basic INFO 3.2638127034226554: Received message <Hello:> from Peer_2:basic\n",
      "Peer_1:basic INFO 3.2638127034226554: Connecting to Peer_2:basic\n",
      "Peer_1:basic INFO 3.2638127034226554: Sending message <Hello:> to Peer_2:basic\n",
      "Peer_1:basic INFO 3.363249910504473: Received message <Hello:> from Peer_5:basic\n",
      "Peer_1:basic INFO 3.8692802036265914: Received message <Hello:> from Peer_3:basic\n",
      "Peer_1:basic INFO 1000: Sending message <Ping:> to Peer_3:basic\n",
      "Peer_1:basic INFO 1000: Sending message <Ping:> to Peer_5:basic\n",
      "Peer_1:basic INFO 1000: Sending message <Ping:> to Peer_7:basic\n",
      "Peer_1:basic INFO 1000: Sending message <Ping:> to Peer_2:basic\n",
      "Peer_1:basic INFO 1001.0533711376834: Received message <Ping:> from Peer_7:basic\n",
      "Peer_1:basic INFO 1001.0533711376834: Sending message <Pong:> to Peer_7:basic\n",
      "Peer_1:basic INFO 1002.3015734651617: Received message <Ping:> from Peer_5:basic\n",
      "Peer_1:basic INFO 1002.3015734651617: Sending message <Pong:> to Peer_5:basic\n",
      "Peer_1:basic INFO 1002.4097258438392: Received message <Ping:> from Peer_2:basic\n",
      "Peer_1:basic INFO 1002.4097258438392: Sending message <Pong:> to Peer_2:basic\n",
      "Peer_1:basic INFO 1002.8061467793684: Received message <Ping:> from Peer_3:basic\n",
      "Peer_1:basic INFO 1002.8061467793684: Sending message <Pong:> to Peer_3:basic\n",
      "Peer_1:basic INFO 1002.9513208593464: Received message <Pong:> from Peer_7:basic\n",
      "Peer_1:basic INFO 1003.3983158639063: Received message <Pong:> from Peer_5:basic\n",
      "Peer_1:basic INFO 1004.3515842413447: Received message <Pong:> from Peer_3:basic\n",
      "Peer_1:basic INFO 1006.4007576926342: Received message <Pong:> from Peer_2:basic\n",
      "Peer_1:basic INFO 2000: Sending message <Ping:> to Peer_3:basic\n",
      "Peer_1:basic INFO 2000: Sending message <Ping:> to Peer_5:basic\n",
      "Peer_1:basic INFO 2000: Sending message <Ping:> to Peer_7:basic\n",
      "Peer_1:basic INFO 2000: Sending message <Ping:> to Peer_2:basic\n",
      "Peer_1:basic INFO 2002.4371475769306: Received message <Ping:> from Peer_5:basic\n",
      "Peer_1:basic INFO 2002.4371475769306: Sending message <Pong:> to Peer_5:basic\n",
      "Peer_1:basic INFO 2002.477473951516: Received message <Ping:> from Peer_7:basic\n",
      "Peer_1:basic INFO 2002.477473951516: Sending message <Pong:> to Peer_7:basic\n",
      "Peer_1:basic INFO 2002.9014255468426: Received message <Ping:> from Peer_3:basic\n",
      "Peer_1:basic INFO 2002.9014255468426: Sending message <Pong:> to Peer_3:basic\n",
      "Peer_1:basic INFO 2003.783059754325: Received message <Pong:> from Peer_5:basic\n",
      "Peer_1:basic INFO 2003.9372504130745: Received message <Ping:> from Peer_2:basic\n",
      "Peer_1:basic INFO 2003.9372504130745: Sending message <Pong:> to Peer_2:basic\n",
      "Peer_1:basic INFO 2004.13358219325: Received message <Pong:> from Peer_7:basic\n",
      "Peer_1:basic INFO 2004.9455129934754: Received message <Pong:> from Peer_2:basic\n",
      "Peer_1:basic INFO 2005.2850075064512: Received message <Pong:> from Peer_3:basic\n",
      "\n"
     ]
    },
    {
     "data": {
      "image/png": "[encoded data removed]",
      "text/plain": [
       "<Figure size 432x288 with 1 Axes>"
      ]
     },
     "metadata": {},
     "output_type": "display_data"
    }
   ],
   "source": [
    "# 1. change latency and check log\n",
    "\n",
    "from p2psimpy.config import *\n",
    "from p2psimpy.consts import *\n",
    "import networkx as nx\n",
    "\n",
    "class Locations(Config):\n",
    "    locations = ['LocA', 'LocB']\n",
    "    latencies = {\n",
    "        'LocB': {'LocB': Dist('gamma', (1, 1, 1))},\n",
    "        'LocA': {'LocB': Dist('norm', (5, 2.5)), 'LocA': Dist('norm', (4, 1))},\n",
    "    } \n",
    "\n",
    "# Number of nodes\n",
    "N = 8\n",
    "    \n",
    "# Generate network topology \n",
    "G = nx.erdos_renyi_graph(N, 0.5)\n",
    "# Assign a peer type to the peers \n",
    "nx.set_node_attributes(G, {k: 'basic' for k in G.nodes()}, 'type')\n",
    "\n",
    "class PeerConfig(Config):\n",
    "    location = Dist('sample', Locations.locations)\n",
    "    bandwidth_ul = Dist( 'norm', (50*MBit, 10*MBit))\n",
    "    bandwidth_dl = Dist( 'norm', (50*MBit, 10*MBit))\n",
    "\n",
    "# Let's add ConnectionManager - that will periodically ping neighbours and check if they are online \n",
    "from p2psimpy.services.connection_manager import BaseConnectionManager\n",
    "# For each service you can define own configuration, or use default values.   \n",
    "# Lets use base connection manager - that will periodically ping peer and disconnect unresponsive peers.\n",
    "\n",
    "services = (BaseConnectionManager,)\n",
    "peer_types = {'basic': PeerType(PeerConfig, services)}\n",
    "\n",
    "nx.draw_networkx(G)\n",
    "\n",
    "sim = BaseSimulation(Locations, G, peer_types, enable_logger=True, logger_dir='Intro_expr/logs0')\n",
    "\n",
    "# Let's run the simulation for 5 seconds\n",
    "sim.run(3_000)\n",
    "\n",
    "with open('logs3/Peer_1:basic.log') as s:\n",
    "    print(s.read())"
   ]
  },
  {
   "cell_type": "code",
   "execution_count": 33,
   "metadata": {},
   "outputs": [],
   "source": [
    "# 2. change the rules of discovery\n",
    "num_peers = 20\n",
    "\n",
    "topology_specs = {i:{'type': 'basic'} for i in range(1, num_peers+1)}\n",
    "\n",
    "class NewConnectionConfig(Config):\n",
    "    min_peers = 4\n",
    "    max_peers = 8\n",
    "\n",
    "peer_types1 = {'basic': PeerType(PeerConfig, {P2PConnectionManager: NewConnectionConfig})}"
   ]
  },
  {
   "cell_type": "code",
   "execution_count": 35,
   "metadata": {},
   "outputs": [
    {
     "name": "stdout",
     "output_type": "stream",
     "text": [
      "+\n"
     ]
    },
    {
     "data": {
      "image/png": "[encoded data removed]",
      "text/plain": [
       "<Figure size 432x288 with 1 Axes>"
      ]
     },
     "metadata": {},
     "output_type": "display_data"
    }
   ],
   "source": [
    "sim1 = BaseSimulation(Locations, topology_specs, peer_types, logger_dir='Intro_expr/logs1')\n",
    "\n",
    "# Let's run the simulation for 5 seconds\n",
    "sim1.run(7_000)\n",
    "G2 = sim1.get_graph()\n",
    "nx.draw_networkx(G2)"
   ]
  },
  {
   "cell_type": "code",
   "execution_count": null,
   "metadata": {},
   "outputs": [],
   "source": []
  }
 ],
 "metadata": {
  "hide_input": false,
  "kernelspec": {
   "display_name": "Python 3",
   "language": "python",
   "name": "python3"
  },
  "language_info": {
   "codemirror_mode": {
    "name": "ipython",
    "version": 3
   },
   "file_extension": ".py",
   "mimetype": "text/x-python",
   "name": "python",
   "nbconvert_exporter": "python",
   "pygments_lexer": "ipython3",
   "version": "3.7.9"
  },
  "pycharm": {
   "stem_cell": {
    "cell_type": "raw",
    "metadata": {
     "collapsed": false
    },
    "source": []
   }
  },
  "toc": {
   "base_numbering": 1,
   "nav_menu": {},
   "number_sections": true,
   "sideBar": true,
   "skip_h1_title": false,
   "title_cell": "Table of Contents",
   "title_sidebar": "Contents",
   "toc_cell": false,
   "toc_position": {
    "height": "524px",
    "left": "441px",
    "top": "355px",
    "width": "256px"
   },
   "toc_section_display": true,
   "toc_window_display": false
  },
  "varInspector": {
   "cols": {
    "lenName": 16,
    "lenType": 16,
    "lenVar": 40
   },
   "kernels_config": {
    "python": {
     "delete_cmd_postfix": "",
     "delete_cmd_prefix": "del ",
     "library": "var_list.py",
     "varRefreshCmd": "print(var_dic_list())"
    },
    "r": {
     "delete_cmd_postfix": ") ",
     "delete_cmd_prefix": "rm(",
     "library": "var_list.r",
     "varRefreshCmd": "cat(var_dic_list()) "
    }
   },
   "types_to_exclude": [
    "module",
    "function",
    "builtin_function_or_method",
    "instance",
    "_Feature"
   ],
   "window_display": false
  }
 },
 "nbformat": 4,
 "nbformat_minor": 4
}
